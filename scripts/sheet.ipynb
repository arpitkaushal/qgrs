{
 "cells": [
  {
   "cell_type": "code",
   "execution_count": 56,
   "metadata": {},
   "outputs": [],
   "source": [
    "import openpyxl as ox\r\n",
    "import pandas as pd\r\n",
    "from datetime import datetime\r\n",
    "\r\n",
    "excel_file = '../database/testOld.xlsx'\r\n",
    "op_file = \"../database/testOld\"+datetime.now().strftime(\"%m%d%Y_%H%M%S\")+\".xlsx\"\r\n",
    "wb = ox.load_workbook(excel_file)\r\n",
    "ipSheet = wb['testOld']\r\n",
    "opSheet = wb['output']"
   ]
  },
  {
   "cell_type": "code",
   "execution_count": 55,
   "metadata": {},
   "outputs": [],
   "source": [
    "delim = \", \"\r\n",
    "rowOut=2\r\n",
    "for rowIn in range(2,ipSheet.max_row+1):\r\n",
    "    lncRNA = ipSheet.cell(rowIn,1).value\r\n",
    "    num_transcripts = ipSheet.cell(rowIn,2).value\r\n",
    "    if(num_transcripts>1):\r\n",
    "        total_pqs = ipSheet.cell(rowIn,3).value.split(delim)\r\n",
    "        g2 = ipSheet.cell(rowIn,4).value.split(delim)\r\n",
    "        g3 = ipSheet.cell(rowIn,5).value.split(delim)\r\n",
    "        g4 = ipSheet.cell(rowIn,6).value.split(delim)\r\n",
    "        ncbi_id = ipSheet.cell(rowIn,7).value.split(delim)\r\n",
    "    \r\n",
    "    for i in range(len(total_pqs)):\r\n",
    "        opSheet.cell(rowOut,1).value = lncRNA\r\n",
    "        opSheet.cell(rowOut,2).value = i+1\r\n",
    "        opSheet.cell(rowOut,3).value= int(total_pqs[i])\r\n",
    "        opSheet.cell(rowOut,4).value= int(g2[i])\r\n",
    "        opSheet.cell(rowOut,5).value= int(g3[i])\r\n",
    "        opSheet.cell(rowOut,6).value= int(g4[i])\r\n",
    "        opSheet.cell(rowOut,7).value= ncbi_id[i]\r\n",
    "        rowOut+=1\r\n"
   ]
  },
  {
   "cell_type": "code",
   "execution_count": 53,
   "metadata": {},
   "outputs": [],
   "source": [
    "wb.save(op_file)"
   ]
  }
 ],
 "metadata": {
  "interpreter": {
   "hash": "610e2ccac81d2ba0c4806f6a9cf93c14b6178bc735c9ba77a203727100a9065f"
  },
  "kernelspec": {
   "display_name": "Python 3.9.1 64-bit",
   "name": "python3"
  },
  "language_info": {
   "codemirror_mode": {
    "name": "ipython",
    "version": 3
   },
   "file_extension": ".py",
   "mimetype": "text/x-python",
   "name": "python",
   "nbconvert_exporter": "python",
   "pygments_lexer": "ipython3",
   "version": "3.9.1"
  },
  "orig_nbformat": 4
 },
 "nbformat": 4,
 "nbformat_minor": 2
}