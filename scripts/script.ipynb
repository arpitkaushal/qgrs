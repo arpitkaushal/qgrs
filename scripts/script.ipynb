{
 "cells": [
  {
   "cell_type": "code",
   "execution_count": 1,
   "metadata": {},
   "outputs": [
    {
     "name": "stdout",
     "output_type": "stream",
     "text": [
      "g:\\Desktop\\code\\gh-p\\qgrs\\webdrivers\\chromedriver.exe\n"
     ]
    }
   ],
   "source": [
    "from pathlib import Path\r\n",
    "from utility import *\r\n",
    "\r\n",
    "dir_path = Path().absolute()\r\n",
    "d1 = newdriver(\"chrome\",dir_path)"
   ]
  },
  {
   "cell_type": "code",
   "execution_count": 2,
   "metadata": {},
   "outputs": [],
   "source": [
    "NCBI_ID = \"NR_149020.1\""
   ]
  },
  {
   "cell_type": "code",
   "execution_count": 3,
   "metadata": {},
   "outputs": [
    {
     "data": {
      "text/plain": [
       "['NR_149020.1', 'NR_130107.1']"
      ]
     },
     "execution_count": 3,
     "metadata": {},
     "output_type": "execute_result"
    }
   ],
   "source": [
    "IDs = \"NR_149020.1, NR_130107.1\".split(\", \")\r\n",
    "IDs"
   ]
  },
  {
   "cell_type": "code",
   "execution_count": 4,
   "metadata": {},
   "outputs": [],
   "source": [
    "# seq = getseq(\"NR_026892.1\")\r\n",
    "count = getGcount(d1,NCBI_ID)"
   ]
  },
  {
   "cell_type": "code",
   "execution_count": 4,
   "metadata": {},
   "outputs": [
    {
     "name": "stdout",
     "output_type": "stream",
     "text": [
      "Result for NR_149020.1\n",
      "No. of 2G PQS : 37\n",
      "No. of 3G PQS : 6\n",
      "No. of 4G PQS : 2\n",
      "Result for NR_130107.1\n",
      "No. of 2G PQS : 9\n",
      "No. of 3G PQS : 1\n",
      "No. of 4G PQS : 0\n"
     ]
    },
    {
     "data": {
      "text/plain": [
       "['NR_149020.1', 'NR_130107.1']"
      ]
     },
     "execution_count": 4,
     "metadata": {},
     "output_type": "execute_result"
    }
   ],
   "source": [
    "getGcountMultiple(d1,IDs)"
   ]
  }
 ],
 "metadata": {
  "interpreter": {
   "hash": "610e2ccac81d2ba0c4806f6a9cf93c14b6178bc735c9ba77a203727100a9065f"
  },
  "kernelspec": {
   "display_name": "Python 3.9.1 64-bit",
   "name": "python3"
  },
  "language_info": {
   "codemirror_mode": {
    "name": "ipython",
    "version": 3
   },
   "file_extension": ".py",
   "mimetype": "text/x-python",
   "name": "python",
   "nbconvert_exporter": "python",
   "pygments_lexer": "ipython3",
   "version": "3.9.1"
  },
  "orig_nbformat": 4
 },
 "nbformat": 4,
 "nbformat_minor": 2
}