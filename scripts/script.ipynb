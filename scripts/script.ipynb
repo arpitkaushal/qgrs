{
 "cells": [
  {
   "cell_type": "code",
   "execution_count": 3,
   "metadata": {},
   "outputs": [
    {
     "name": "stdout",
     "output_type": "stream",
     "text": [
      "g:\\Desktop\\code\\gh-p\\qgrs\\webdrivers\\msedgedriver.exe\n"
     ]
    }
   ],
   "source": [
    "from pathlib import Path\r\n",
    "from utility import *\r\n",
    "\r\n",
    "dir_path = Path().absolute()\r\n",
    "d1 = newdriver(\"msedge\",dir_path)"
   ]
  },
  {
   "cell_type": "code",
   "execution_count": 4,
   "metadata": {},
   "outputs": [],
   "source": [
    "seq = getseq(\"NR_026892.1\")"
   ]
  },
  {
   "cell_type": "code",
   "execution_count": 5,
   "metadata": {},
   "outputs": [],
   "source": [
    "from selenium.webdriver.support.ui import Select\r\n",
    "import time\r\n",
    "d1.get(\"https://bioinformatics.ramapo.edu/QGRS/analyze.php\")\r\n",
    "Select(d1.find_element_by_name(\"QGRSmax\")).select_by_visible_text(\"45\")\r\n",
    "d1.find_element_by_name(\"sequence\").send_keys(seq)\r\n",
    "d1.find_element_by_xpath(\"//input[@value='Analyze']\").click()\r\n",
    "time.sleep(3)\r\n",
    "d1.find_element_by_xpath(\"//img[@src='data.gif']\").click()"
   ]
  },
  {
   "cell_type": "code",
   "execution_count": 6,
   "metadata": {},
   "outputs": [],
   "source": [
    "tabs = d1.window_handles\r\n",
    "d1.switch_to.window(tabs[1])"
   ]
  },
  {
   "cell_type": "code",
   "execution_count": 8,
   "metadata": {},
   "outputs": [
    {
     "name": "stdout",
     "output_type": "stream",
     "text": [
      "[36, 1, 0]\n"
     ]
    }
   ],
   "source": [
    "gees = [0,0,0]\r\n",
    "i = 2\r\n",
    "while True:\r\n",
    "    try:\r\n",
    "        entry = d1.find_element_by_xpath(\"//table/tbody/tr[\"+str(i)+\"]/td[3]/b/u\").text\r\n",
    "        gees[len(entry)-2]+=1\r\n",
    "        # print(entry)\r\n",
    "        i+=1\r\n",
    "    except:\r\n",
    "        break\r\n",
    "print(gees)\r\n",
    "# rows"
   ]
  }
 ],
 "metadata": {
  "interpreter": {
   "hash": "610e2ccac81d2ba0c4806f6a9cf93c14b6178bc735c9ba77a203727100a9065f"
  },
  "kernelspec": {
   "display_name": "Python 3.9.1 64-bit",
   "name": "python3"
  },
  "language_info": {
   "codemirror_mode": {
    "name": "ipython",
    "version": 3
   },
   "file_extension": ".py",
   "mimetype": "text/x-python",
   "name": "python",
   "nbconvert_exporter": "python",
   "pygments_lexer": "ipython3",
   "version": "3.9.1"
  },
  "orig_nbformat": 4
 },
 "nbformat": 4,
 "nbformat_minor": 2
}