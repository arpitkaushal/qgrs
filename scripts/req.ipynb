{
 "cells": [
  {
   "cell_type": "code",
   "execution_count": 66,
   "metadata": {},
   "outputs": [
    {
     "name": "stdout",
     "output_type": "stream",
     "text": [
      "Search Parameters: QGRS Max Length: 45 | Min G-Group Size: 2 | Loop size: from 0 to 36 | Loop search string: \n"
     ]
    }
   ],
   "source": [
    "import requests as req\r\n",
    "from bs4 import BeautifulSoup as bs\r\n",
    "import re\r\n",
    "from utility import *\r\n",
    "\r\n",
    "NCBI_ID = \"NR_130107.1\"\r\n",
    "\r\n",
    "# make request to the server for an ID\r\n",
    "data = {\"sequence\": getseq(NCBI_ID) }\r\n",
    "options = { \r\n",
    "    \"Enabled\":\"true\",        # set params\r\n",
    "    \"QGRSmax\":\"45\",\r\n",
    "    \"GGroupmin\":\"2\",\r\n",
    "    \"loop_min\":\"0\",\r\n",
    "    \"loop_max\":\"36\"\r\n",
    "}\r\n",
    "inputURL = \"https://bioinformatics.ramapo.edu/QGRS/analyze.php\"\r\n",
    "r = req.post(inputURL,data=data,cookies=options)\r\n",
    "\r\n",
    "# parse response from server, get link for \"QGRS sequences without overlaps\"\r\n",
    "# that contains the table we're interested in\r\n",
    "soup = bs(r.text,'html.parser')\r\n",
    "print(\"\".join(soup.findAll('font')[1].strings))\r\n",
    "link = soup.body.find('img', {\"src\":\"data.gif\"}).parent\r\n",
    "baseURL = \"https://bioinformatics.ramapo.edu/QGRS/dataview.php/\"\r\n",
    "outputURL = baseURL+link['href']\r\n",
    "\r\n",
    "# visit the link and get table\r\n",
    "r = req.get(outputURL)\r\n",
    "soup = bs(r.text,'html.parser')\r\n",
    "table = soup.find('table')"
   ]
  },
  {
   "cell_type": "code",
   "execution_count": 65,
   "metadata": {},
   "outputs": [
    {
     "name": "stdout",
     "output_type": "stream",
     "text": [
      "[9, 1, 0]\n"
     ]
    }
   ],
   "source": [
    "table_rows = table.find_all('tr')[1:]\r\n",
    "gees = [0]*3\r\n",
    "for tr in table_rows:\r\n",
    "    seq = tr.find_all('td')[2]\r\n",
    "    gees[len(seq.find_all('u')[0].text)-2]+=1\r\n",
    "\r\n",
    "print(gees)"
   ]
  }
 ],
 "metadata": {
  "interpreter": {
   "hash": "610e2ccac81d2ba0c4806f6a9cf93c14b6178bc735c9ba77a203727100a9065f"
  },
  "kernelspec": {
   "display_name": "Python 3.9.1 64-bit",
   "name": "python3"
  },
  "language_info": {
   "codemirror_mode": {
    "name": "ipython",
    "version": 3
   },
   "file_extension": ".py",
   "mimetype": "text/x-python",
   "name": "python",
   "nbconvert_exporter": "python",
   "pygments_lexer": "ipython3",
   "version": "3.9.1"
  },
  "orig_nbformat": 4
 },
 "nbformat": 4,
 "nbformat_minor": 2
}